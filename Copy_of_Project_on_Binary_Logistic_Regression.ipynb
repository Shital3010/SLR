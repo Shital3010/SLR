{
  "nbformat": 4,
  "nbformat_minor": 0,
  "metadata": {
    "kernelspec": {
      "display_name": "Python 3",
      "language": "python",
      "name": "python3"
    },
    "language_info": {
      "codemirror_mode": {
        "name": "ipython",
        "version": 3
      },
      "file_extension": ".py",
      "mimetype": "text/x-python",
      "name": "python",
      "nbconvert_exporter": "python",
      "pygments_lexer": "ipython3",
      "version": "3.7.3"
    },
    "colab": {
      "name": "Copy of Project on Binary Logistic Regression.ipynb",
      "provenance": [],
      "include_colab_link": true
    }
  },
  "cells": [
    {
      "cell_type": "markdown",
      "metadata": {
        "id": "view-in-github",
        "colab_type": "text"
      },
      "source": [
        "<a href=\"https://colab.research.google.com/github/Shital3010/SLR/blob/master/Copy_of_Project_on_Binary_Logistic_Regression.ipynb\" target=\"_parent\"><img src=\"https://colab.research.google.com/assets/colab-badge.svg\" alt=\"Open In Colab\"/></a>"
      ]
    },
    {
      "cell_type": "markdown",
      "metadata": {
        "id": "yMc5lHpnS3Xr"
      },
      "source": [
        "# Binary logistic regression"
      ]
    },
    {
      "cell_type": "code",
      "metadata": {
        "id": "86CoT53KS3Xv"
      },
      "source": [
        "#importing librabries\n",
        "import pandas as pd\n",
        "import numpy as np\n",
        "import matplotlib.pyplot as plt\n",
        "%matplotlib inline\n",
        "import seaborn as sns\n",
        "from sklearn.model_selection import train_test_split \n",
        "from sklearn.preprocessing import StandardScaler  \n",
        "from sklearn.linear_model import LogisticRegression\n",
        "from sklearn import metrics\n",
        "from sklearn.metrics import classification_report,confusion_matrix\n",
        "from sklearn.metrics import roc_auc_score     \n",
        "from sklearn.metrics import roc_curve"
      ],
      "execution_count": null,
      "outputs": []
    },
    {
      "cell_type": "code",
      "metadata": {
        "id": "7niixfrTS3X5"
      },
      "source": [
        "data=pd.read_csv(r'C:\\Users\\Amit Sahani\\Desktop\\project and searches\\may end project work\\binary.csv')"
      ],
      "execution_count": null,
      "outputs": []
    },
    {
      "cell_type": "code",
      "metadata": {
        "id": "LfjOX8TgS3YG",
        "outputId": "1f44cbff-8da5-4d5b-a344-7382777cfb91"
      },
      "source": [
        "data.head()"
      ],
      "execution_count": null,
      "outputs": [
        {
          "output_type": "execute_result",
          "data": {
            "text/html": [
              "<div>\n",
              "<style scoped>\n",
              "    .dataframe tbody tr th:only-of-type {\n",
              "        vertical-align: middle;\n",
              "    }\n",
              "\n",
              "    .dataframe tbody tr th {\n",
              "        vertical-align: top;\n",
              "    }\n",
              "\n",
              "    .dataframe thead th {\n",
              "        text-align: right;\n",
              "    }\n",
              "</style>\n",
              "<table border=\"1\" class=\"dataframe\">\n",
              "  <thead>\n",
              "    <tr style=\"text-align: right;\">\n",
              "      <th></th>\n",
              "      <th>Gender</th>\n",
              "      <th>Age</th>\n",
              "      <th>Education</th>\n",
              "      <th>Occupation</th>\n",
              "      <th>Number of family members</th>\n",
              "      <th>location</th>\n",
              "      <th>Income</th>\n",
              "      <th>hospital preference</th>\n",
              "    </tr>\n",
              "  </thead>\n",
              "  <tbody>\n",
              "    <tr>\n",
              "      <th>0</th>\n",
              "      <td>0</td>\n",
              "      <td>45</td>\n",
              "      <td>4</td>\n",
              "      <td>5</td>\n",
              "      <td>4</td>\n",
              "      <td>2</td>\n",
              "      <td>3</td>\n",
              "      <td>1</td>\n",
              "    </tr>\n",
              "    <tr>\n",
              "      <th>1</th>\n",
              "      <td>1</td>\n",
              "      <td>56</td>\n",
              "      <td>2</td>\n",
              "      <td>7</td>\n",
              "      <td>6</td>\n",
              "      <td>2</td>\n",
              "      <td>3</td>\n",
              "      <td>0</td>\n",
              "    </tr>\n",
              "    <tr>\n",
              "      <th>2</th>\n",
              "      <td>1</td>\n",
              "      <td>22</td>\n",
              "      <td>5</td>\n",
              "      <td>3</td>\n",
              "      <td>3</td>\n",
              "      <td>2</td>\n",
              "      <td>4</td>\n",
              "      <td>1</td>\n",
              "    </tr>\n",
              "    <tr>\n",
              "      <th>3</th>\n",
              "      <td>0</td>\n",
              "      <td>22</td>\n",
              "      <td>5</td>\n",
              "      <td>3</td>\n",
              "      <td>4</td>\n",
              "      <td>4</td>\n",
              "      <td>3</td>\n",
              "      <td>1</td>\n",
              "    </tr>\n",
              "    <tr>\n",
              "      <th>4</th>\n",
              "      <td>1</td>\n",
              "      <td>22</td>\n",
              "      <td>5</td>\n",
              "      <td>3</td>\n",
              "      <td>4</td>\n",
              "      <td>2</td>\n",
              "      <td>4</td>\n",
              "      <td>1</td>\n",
              "    </tr>\n",
              "  </tbody>\n",
              "</table>\n",
              "</div>"
            ],
            "text/plain": [
              "   Gender  Age  Education   Occupation   Number of family members  location  \\\n",
              "0       0   45           4            5                         4         2   \n",
              "1       1   56           2            7                         6         2   \n",
              "2       1   22           5            3                         3         2   \n",
              "3       0   22           5            3                         4         4   \n",
              "4       1   22           5            3                         4         2   \n",
              "\n",
              "   Income   hospital preference  \n",
              "0        3                    1  \n",
              "1        3                    0  \n",
              "2        4                    1  \n",
              "3        3                    1  \n",
              "4        4                    1  "
            ]
          },
          "metadata": {
            "tags": []
          },
          "execution_count": 3
        }
      ]
    },
    {
      "cell_type": "code",
      "metadata": {
        "id": "egnKYizFS3YQ",
        "outputId": "b28be475-1570-4fd8-a6a3-86c3bede820e"
      },
      "source": [
        "data.shape"
      ],
      "execution_count": null,
      "outputs": [
        {
          "output_type": "execute_result",
          "data": {
            "text/plain": [
              "(328, 8)"
            ]
          },
          "metadata": {
            "tags": []
          },
          "execution_count": 4
        }
      ]
    },
    {
      "cell_type": "code",
      "metadata": {
        "id": "wJba57gKS3YX",
        "outputId": "afaa6674-d40e-47a5-bc80-e16e221eca37"
      },
      "source": [
        "data.info()"
      ],
      "execution_count": null,
      "outputs": [
        {
          "output_type": "stream",
          "text": [
            "<class 'pandas.core.frame.DataFrame'>\n",
            "RangeIndex: 328 entries, 0 to 327\n",
            "Data columns (total 8 columns):\n",
            "Gender                      328 non-null int64\n",
            "Age                         328 non-null int64\n",
            "Education                   328 non-null int64\n",
            "Occupation                  328 non-null int64\n",
            "Number of family members    328 non-null int64\n",
            "location                    328 non-null int64\n",
            "Income                      328 non-null int64\n",
            "hospital preference         328 non-null int64\n",
            "dtypes: int64(8)\n",
            "memory usage: 20.6 KB\n"
          ],
          "name": "stdout"
        }
      ]
    },
    {
      "cell_type": "code",
      "metadata": {
        "id": "p0DhzL-zS3Ye",
        "outputId": "ef0ab9ad-b90b-416d-8d45-f33611012aa2"
      },
      "source": [
        "list(data.columns)"
      ],
      "execution_count": null,
      "outputs": [
        {
          "output_type": "execute_result",
          "data": {
            "text/plain": [
              "['Gender',\n",
              " 'Age',\n",
              " 'Education ',\n",
              " 'Occupation ',\n",
              " 'Number of family members',\n",
              " 'location',\n",
              " 'Income ',\n",
              " 'hospital preference']"
            ]
          },
          "metadata": {
            "tags": []
          },
          "execution_count": 6
        }
      ]
    },
    {
      "cell_type": "code",
      "metadata": {
        "id": "njU7x4VQS3Yl",
        "outputId": "9b5db09b-4f33-4bfb-cf50-9e5b21ee5a08"
      },
      "source": [
        "data.isnull().sum()"
      ],
      "execution_count": null,
      "outputs": [
        {
          "output_type": "execute_result",
          "data": {
            "text/plain": [
              "Gender                      0\n",
              "Age                         0\n",
              "Education                   0\n",
              "Occupation                  0\n",
              "Number of family members    0\n",
              "location                    0\n",
              "Income                      0\n",
              "hospital preference         0\n",
              "dtype: int64"
            ]
          },
          "metadata": {
            "tags": []
          },
          "execution_count": 7
        }
      ]
    },
    {
      "cell_type": "code",
      "metadata": {
        "id": "pVSNp44cS3Yt",
        "outputId": "fd9ba0f8-97cf-4aa3-824e-32e3db4836b6"
      },
      "source": [
        "##converting into the categorical values\n",
        "\n",
        "cols=['Gender',\n",
        " 'Education ',\n",
        " 'Occupation ',\n",
        " 'location',\n",
        " 'Income ',\n",
        " 'hospital preference']\n",
        "\n",
        "for col in cols:\n",
        "    data[col]=data[col].astype(\"category\")\n",
        "   \n",
        "print (data.dtypes)"
      ],
      "execution_count": null,
      "outputs": [
        {
          "output_type": "stream",
          "text": [
            "Gender                      category\n",
            "Age                            int64\n",
            "Education                   category\n",
            "Occupation                  category\n",
            "Number of family members       int64\n",
            "location                    category\n",
            "Income                      category\n",
            "hospital preference         category\n",
            "dtype: object\n"
          ],
          "name": "stdout"
        }
      ]
    },
    {
      "cell_type": "code",
      "metadata": {
        "id": "w5QvzqfcS3Yz",
        "outputId": "3a1d07c9-d6cb-4464-8623-8b226ca15f1d"
      },
      "source": [
        "data.describe()"
      ],
      "execution_count": null,
      "outputs": [
        {
          "output_type": "execute_result",
          "data": {
            "text/html": [
              "<div>\n",
              "<style scoped>\n",
              "    .dataframe tbody tr th:only-of-type {\n",
              "        vertical-align: middle;\n",
              "    }\n",
              "\n",
              "    .dataframe tbody tr th {\n",
              "        vertical-align: top;\n",
              "    }\n",
              "\n",
              "    .dataframe thead th {\n",
              "        text-align: right;\n",
              "    }\n",
              "</style>\n",
              "<table border=\"1\" class=\"dataframe\">\n",
              "  <thead>\n",
              "    <tr style=\"text-align: right;\">\n",
              "      <th></th>\n",
              "      <th>Age</th>\n",
              "      <th>Number of family members</th>\n",
              "    </tr>\n",
              "  </thead>\n",
              "  <tbody>\n",
              "    <tr>\n",
              "      <th>count</th>\n",
              "      <td>328.000000</td>\n",
              "      <td>328.000000</td>\n",
              "    </tr>\n",
              "    <tr>\n",
              "      <th>mean</th>\n",
              "      <td>31.192073</td>\n",
              "      <td>4.317073</td>\n",
              "    </tr>\n",
              "    <tr>\n",
              "      <th>std</th>\n",
              "      <td>12.405348</td>\n",
              "      <td>1.169208</td>\n",
              "    </tr>\n",
              "    <tr>\n",
              "      <th>min</th>\n",
              "      <td>18.000000</td>\n",
              "      <td>3.000000</td>\n",
              "    </tr>\n",
              "    <tr>\n",
              "      <th>25%</th>\n",
              "      <td>22.000000</td>\n",
              "      <td>4.000000</td>\n",
              "    </tr>\n",
              "    <tr>\n",
              "      <th>50%</th>\n",
              "      <td>25.000000</td>\n",
              "      <td>4.000000</td>\n",
              "    </tr>\n",
              "    <tr>\n",
              "      <th>75%</th>\n",
              "      <td>41.000000</td>\n",
              "      <td>5.000000</td>\n",
              "    </tr>\n",
              "    <tr>\n",
              "      <th>max</th>\n",
              "      <td>75.000000</td>\n",
              "      <td>15.000000</td>\n",
              "    </tr>\n",
              "  </tbody>\n",
              "</table>\n",
              "</div>"
            ],
            "text/plain": [
              "              Age  Number of family members\n",
              "count  328.000000                328.000000\n",
              "mean    31.192073                  4.317073\n",
              "std     12.405348                  1.169208\n",
              "min     18.000000                  3.000000\n",
              "25%     22.000000                  4.000000\n",
              "50%     25.000000                  4.000000\n",
              "75%     41.000000                  5.000000\n",
              "max     75.000000                 15.000000"
            ]
          },
          "metadata": {
            "tags": []
          },
          "execution_count": 9
        }
      ]
    },
    {
      "cell_type": "code",
      "metadata": {
        "id": "fSnwPYW2S3Y5",
        "outputId": "0b6467c6-b62e-458c-dbff-496b343808b8"
      },
      "source": [
        "data.describe(include='all')"
      ],
      "execution_count": null,
      "outputs": [
        {
          "output_type": "execute_result",
          "data": {
            "text/html": [
              "<div>\n",
              "<style scoped>\n",
              "    .dataframe tbody tr th:only-of-type {\n",
              "        vertical-align: middle;\n",
              "    }\n",
              "\n",
              "    .dataframe tbody tr th {\n",
              "        vertical-align: top;\n",
              "    }\n",
              "\n",
              "    .dataframe thead th {\n",
              "        text-align: right;\n",
              "    }\n",
              "</style>\n",
              "<table border=\"1\" class=\"dataframe\">\n",
              "  <thead>\n",
              "    <tr style=\"text-align: right;\">\n",
              "      <th></th>\n",
              "      <th>Gender</th>\n",
              "      <th>Age</th>\n",
              "      <th>Education</th>\n",
              "      <th>Occupation</th>\n",
              "      <th>Number of family members</th>\n",
              "      <th>location</th>\n",
              "      <th>Income</th>\n",
              "      <th>hospital preference</th>\n",
              "    </tr>\n",
              "  </thead>\n",
              "  <tbody>\n",
              "    <tr>\n",
              "      <th>count</th>\n",
              "      <td>328.0</td>\n",
              "      <td>328.000000</td>\n",
              "      <td>328.0</td>\n",
              "      <td>328.0</td>\n",
              "      <td>328.000000</td>\n",
              "      <td>328.0</td>\n",
              "      <td>328.0</td>\n",
              "      <td>328.0</td>\n",
              "    </tr>\n",
              "    <tr>\n",
              "      <th>unique</th>\n",
              "      <td>2.0</td>\n",
              "      <td>NaN</td>\n",
              "      <td>6.0</td>\n",
              "      <td>6.0</td>\n",
              "      <td>NaN</td>\n",
              "      <td>5.0</td>\n",
              "      <td>6.0</td>\n",
              "      <td>2.0</td>\n",
              "    </tr>\n",
              "    <tr>\n",
              "      <th>top</th>\n",
              "      <td>0.0</td>\n",
              "      <td>NaN</td>\n",
              "      <td>4.0</td>\n",
              "      <td>5.0</td>\n",
              "      <td>NaN</td>\n",
              "      <td>2.0</td>\n",
              "      <td>4.0</td>\n",
              "      <td>1.0</td>\n",
              "    </tr>\n",
              "    <tr>\n",
              "      <th>freq</th>\n",
              "      <td>166.0</td>\n",
              "      <td>NaN</td>\n",
              "      <td>200.0</td>\n",
              "      <td>147.0</td>\n",
              "      <td>NaN</td>\n",
              "      <td>228.0</td>\n",
              "      <td>117.0</td>\n",
              "      <td>243.0</td>\n",
              "    </tr>\n",
              "    <tr>\n",
              "      <th>mean</th>\n",
              "      <td>NaN</td>\n",
              "      <td>31.192073</td>\n",
              "      <td>NaN</td>\n",
              "      <td>NaN</td>\n",
              "      <td>4.317073</td>\n",
              "      <td>NaN</td>\n",
              "      <td>NaN</td>\n",
              "      <td>NaN</td>\n",
              "    </tr>\n",
              "    <tr>\n",
              "      <th>std</th>\n",
              "      <td>NaN</td>\n",
              "      <td>12.405348</td>\n",
              "      <td>NaN</td>\n",
              "      <td>NaN</td>\n",
              "      <td>1.169208</td>\n",
              "      <td>NaN</td>\n",
              "      <td>NaN</td>\n",
              "      <td>NaN</td>\n",
              "    </tr>\n",
              "    <tr>\n",
              "      <th>min</th>\n",
              "      <td>NaN</td>\n",
              "      <td>18.000000</td>\n",
              "      <td>NaN</td>\n",
              "      <td>NaN</td>\n",
              "      <td>3.000000</td>\n",
              "      <td>NaN</td>\n",
              "      <td>NaN</td>\n",
              "      <td>NaN</td>\n",
              "    </tr>\n",
              "    <tr>\n",
              "      <th>25%</th>\n",
              "      <td>NaN</td>\n",
              "      <td>22.000000</td>\n",
              "      <td>NaN</td>\n",
              "      <td>NaN</td>\n",
              "      <td>4.000000</td>\n",
              "      <td>NaN</td>\n",
              "      <td>NaN</td>\n",
              "      <td>NaN</td>\n",
              "    </tr>\n",
              "    <tr>\n",
              "      <th>50%</th>\n",
              "      <td>NaN</td>\n",
              "      <td>25.000000</td>\n",
              "      <td>NaN</td>\n",
              "      <td>NaN</td>\n",
              "      <td>4.000000</td>\n",
              "      <td>NaN</td>\n",
              "      <td>NaN</td>\n",
              "      <td>NaN</td>\n",
              "    </tr>\n",
              "    <tr>\n",
              "      <th>75%</th>\n",
              "      <td>NaN</td>\n",
              "      <td>41.000000</td>\n",
              "      <td>NaN</td>\n",
              "      <td>NaN</td>\n",
              "      <td>5.000000</td>\n",
              "      <td>NaN</td>\n",
              "      <td>NaN</td>\n",
              "      <td>NaN</td>\n",
              "    </tr>\n",
              "    <tr>\n",
              "      <th>max</th>\n",
              "      <td>NaN</td>\n",
              "      <td>75.000000</td>\n",
              "      <td>NaN</td>\n",
              "      <td>NaN</td>\n",
              "      <td>15.000000</td>\n",
              "      <td>NaN</td>\n",
              "      <td>NaN</td>\n",
              "      <td>NaN</td>\n",
              "    </tr>\n",
              "  </tbody>\n",
              "</table>\n",
              "</div>"
            ],
            "text/plain": [
              "        Gender         Age  Education   Occupation   Number of family members  \\\n",
              "count    328.0  328.000000       328.0        328.0                328.000000   \n",
              "unique     2.0         NaN         6.0          6.0                       NaN   \n",
              "top        0.0         NaN         4.0          5.0                       NaN   \n",
              "freq     166.0         NaN       200.0        147.0                       NaN   \n",
              "mean       NaN   31.192073         NaN          NaN                  4.317073   \n",
              "std        NaN   12.405348         NaN          NaN                  1.169208   \n",
              "min        NaN   18.000000         NaN          NaN                  3.000000   \n",
              "25%        NaN   22.000000         NaN          NaN                  4.000000   \n",
              "50%        NaN   25.000000         NaN          NaN                  4.000000   \n",
              "75%        NaN   41.000000         NaN          NaN                  5.000000   \n",
              "max        NaN   75.000000         NaN          NaN                 15.000000   \n",
              "\n",
              "        location  Income   hospital preference  \n",
              "count      328.0    328.0                328.0  \n",
              "unique       5.0      6.0                  2.0  \n",
              "top          2.0      4.0                  1.0  \n",
              "freq       228.0    117.0                243.0  \n",
              "mean         NaN      NaN                  NaN  \n",
              "std          NaN      NaN                  NaN  \n",
              "min          NaN      NaN                  NaN  \n",
              "25%          NaN      NaN                  NaN  \n",
              "50%          NaN      NaN                  NaN  \n",
              "75%          NaN      NaN                  NaN  \n",
              "max          NaN      NaN                  NaN  "
            ]
          },
          "metadata": {
            "tags": []
          },
          "execution_count": 10
        }
      ]
    },
    {
      "cell_type": "code",
      "metadata": {
        "id": "KfaK6psKS3Y8"
      },
      "source": [
        "x=data.iloc[:,:-1].values   #feature\n",
        "y=data.iloc[:,7].values     #target"
      ],
      "execution_count": null,
      "outputs": []
    },
    {
      "cell_type": "code",
      "metadata": {
        "id": "K3UQ7_HWS3ZA",
        "outputId": "b9f96e4e-a286-4121-f414-6e96219d3688"
      },
      "source": [
        "x.shape"
      ],
      "execution_count": null,
      "outputs": [
        {
          "output_type": "execute_result",
          "data": {
            "text/plain": [
              "(328, 7)"
            ]
          },
          "metadata": {
            "tags": []
          },
          "execution_count": 12
        }
      ]
    },
    {
      "cell_type": "code",
      "metadata": {
        "id": "iU-bwE3FS3ZF",
        "outputId": "07b096ff-6be9-4b21-c77a-7ae2a6595d73"
      },
      "source": [
        "y.shape"
      ],
      "execution_count": null,
      "outputs": [
        {
          "output_type": "execute_result",
          "data": {
            "text/plain": [
              "(328,)"
            ]
          },
          "metadata": {
            "tags": []
          },
          "execution_count": 13
        }
      ]
    },
    {
      "cell_type": "markdown",
      "metadata": {
        "id": "J2ZUr-sTS3ZK"
      },
      "source": [
        "# visualize"
      ]
    },
    {
      "cell_type": "code",
      "metadata": {
        "id": "hWNmxLVkS3ZL",
        "outputId": "376eeddb-4ddf-4728-cbac-bc799381f1a2"
      },
      "source": [
        "data['Gender'].value_counts()"
      ],
      "execution_count": null,
      "outputs": [
        {
          "output_type": "execute_result",
          "data": {
            "text/plain": [
              "0    166\n",
              "1    162\n",
              "Name: Gender, dtype: int64"
            ]
          },
          "metadata": {
            "tags": []
          },
          "execution_count": 14
        }
      ]
    },
    {
      "cell_type": "code",
      "metadata": {
        "id": "UNHzyqfSS3ZQ",
        "outputId": "ee6f8048-7326-4a6c-d84d-28d4560d5055"
      },
      "source": [
        "sns.countplot(x=data.iloc[:,0],data=data,palette= \"hls\",edgecolor=sns.color_palette(\"dark\", 3))"
      ],
      "execution_count": null,
      "outputs": [
        {
          "output_type": "execute_result",
          "data": {
            "text/plain": [
              "<matplotlib.axes._subplots.AxesSubplot at 0x25120ec2f60>"
            ]
          },
          "metadata": {
            "tags": []
          },
          "execution_count": 15
        },
        {
          "output_type": "display_data",
          "data": {
            "image/png": "[encoded data removed]",
            "text/plain": [
              "<Figure size 432x288 with 1 Axes>"
            ]
          },
          "metadata": {
            "tags": [],
            "needs_background": "light"
          }
        }
      ]
    },
    {
      "cell_type": "code",
      "metadata": {
        "id": "t5aQp3BaS3ZU",
        "outputId": "16c70f66-9895-4cd7-a3c3-ae781ad27d6d"
      },
      "source": [
        "data.iloc[:,2].value_counts()"
      ],
      "execution_count": null,
      "outputs": [
        {
          "output_type": "execute_result",
          "data": {
            "text/plain": [
              "4    200\n",
              "5     76\n",
              "3     36\n",
              "2     10\n",
              "6      4\n",
              "1      2\n",
              "Name: Education , dtype: int64"
            ]
          },
          "metadata": {
            "tags": []
          },
          "execution_count": 16
        }
      ]
    },
    {
      "cell_type": "code",
      "metadata": {
        "id": "r4HYs2dYS3ZX",
        "outputId": "6861a3f3-9689-4228-cbcc-79e6af340717"
      },
      "source": [
        "sns.countplot(x=data.iloc[:,2],data=data,palette= \"hls\",edgecolor=sns.color_palette(\"dark\", 3))"
      ],
      "execution_count": null,
      "outputs": [
        {
          "output_type": "execute_result",
          "data": {
            "text/plain": [
              "<matplotlib.axes._subplots.AxesSubplot at 0x251211ad4a8>"
            ]
          },
          "metadata": {
            "tags": []
          },
          "execution_count": 17
        },
        {
          "output_type": "display_data",
          "data": {
            "image/png": "[encoded data removed]",
            "text/plain": [
              "<Figure size 432x288 with 1 Axes>"
            ]
          },
          "metadata": {
            "tags": [],
            "needs_background": "light"
          }
        }
      ]
    },
    {
      "cell_type": "code",
      "metadata": {
        "id": "80p499A2S3Zb",
        "outputId": "380ba81b-ab8f-41ef-dc3f-c7d2e4b9a59b"
      },
      "source": [
        "data.iloc[:,3].value_counts()"
      ],
      "execution_count": null,
      "outputs": [
        {
          "output_type": "execute_result",
          "data": {
            "text/plain": [
              "5    147\n",
              "3    126\n",
              "2     23\n",
              "7     17\n",
              "6     11\n",
              "4      4\n",
              "Name: Occupation , dtype: int64"
            ]
          },
          "metadata": {
            "tags": []
          },
          "execution_count": 18
        }
      ]
    },
    {
      "cell_type": "code",
      "metadata": {
        "id": "dj5Y9Gr1S3Zh",
        "outputId": "7b106667-12a7-454e-9f38-f7133a48fa12"
      },
      "source": [
        "sns.countplot(x=data.iloc[:,3],data=data,palette= \"hls\",edgecolor=sns.color_palette(\"dark\", 3))"
      ],
      "execution_count": null,
      "outputs": [
        {
          "output_type": "execute_result",
          "data": {
            "text/plain": [
              "<matplotlib.axes._subplots.AxesSubplot at 0x25121260dd8>"
            ]
          },
          "metadata": {
            "tags": []
          },
          "execution_count": 19
        },
        {
          "output_type": "display_data",
          "data": {
            "image/png": "[encoded data removed]",
            "text/plain": [
              "<Figure size 432x288 with 1 Axes>"
            ]
          },
          "metadata": {
            "tags": [],
            "needs_background": "light"
          }
        }
      ]
    },
    {
      "cell_type": "code",
      "metadata": {
        "id": "2PBT-6xrS3Zl",
        "outputId": "b00a06f8-02f6-4b81-ede5-768cf97377c0"
      },
      "source": [
        "data.iloc[:,5].value_counts()"
      ],
      "execution_count": null,
      "outputs": [
        {
          "output_type": "execute_result",
          "data": {
            "text/plain": [
              "2    228\n",
              "1     53\n",
              "3     29\n",
              "4     13\n",
              "5      5\n",
              "Name: location, dtype: int64"
            ]
          },
          "metadata": {
            "tags": []
          },
          "execution_count": 20
        }
      ]
    },
    {
      "cell_type": "code",
      "metadata": {
        "id": "oBLlx35bS3Zq",
        "outputId": "95ea3ac6-f8e1-418a-cc23-30ac5d6e2261"
      },
      "source": [
        "sns.countplot(x=data.iloc[:,5],data=data,palette= \"hls\",edgecolor=sns.color_palette(\"dark\", 3))"
      ],
      "execution_count": null,
      "outputs": [
        {
          "output_type": "execute_result",
          "data": {
            "text/plain": [
              "<matplotlib.axes._subplots.AxesSubplot at 0x251213112b0>"
            ]
          },
          "metadata": {
            "tags": []
          },
          "execution_count": 21
        },
        {
          "output_type": "display_data",
          "data": {
            "image/png": "[encoded data removed]",
            "text/plain": [
              "<Figure size 432x288 with 1 Axes>"
            ]
          },
          "metadata": {
            "tags": [],
            "needs_background": "light"
          }
        }
      ]
    },
    {
      "cell_type": "code",
      "metadata": {
        "id": "Xat-wxdUS3Zv",
        "outputId": "e0295e18-8e28-4ec0-b1ff-00ee33c75fd4"
      },
      "source": [
        "data.iloc[:,6].value_counts()"
      ],
      "execution_count": null,
      "outputs": [
        {
          "output_type": "execute_result",
          "data": {
            "text/plain": [
              "4    117\n",
              "3     98\n",
              "5     42\n",
              "2     33\n",
              "6     27\n",
              "1     11\n",
              "Name: Income , dtype: int64"
            ]
          },
          "metadata": {
            "tags": []
          },
          "execution_count": 22
        }
      ]
    },
    {
      "cell_type": "code",
      "metadata": {
        "id": "S3k1bn5US3Z0",
        "outputId": "87ffc8bf-3402-4de9-acbc-50f5745460c5"
      },
      "source": [
        "sns.countplot(x=data.iloc[:,6],data=data,palette= \"hls\",edgecolor=sns.color_palette(\"dark\", 3))"
      ],
      "execution_count": null,
      "outputs": [
        {
          "output_type": "execute_result",
          "data": {
            "text/plain": [
              "<matplotlib.axes._subplots.AxesSubplot at 0x2512120b9e8>"
            ]
          },
          "metadata": {
            "tags": []
          },
          "execution_count": 23
        },
        {
          "output_type": "display_data",
          "data": {
            "image/png": "[encoded data removed]",
            "text/plain": [
              "<Figure size 432x288 with 1 Axes>"
            ]
          },
          "metadata": {
            "tags": [],
            "needs_background": "light"
          }
        }
      ]
    },
    {
      "cell_type": "code",
      "metadata": {
        "id": "ziFX_QXBS3Z5",
        "outputId": "4c4b7725-3a32-496f-80bc-1d67cafe5d13"
      },
      "source": [
        "data.iloc[:,7].value_counts()"
      ],
      "execution_count": null,
      "outputs": [
        {
          "output_type": "execute_result",
          "data": {
            "text/plain": [
              "1    243\n",
              "0     85\n",
              "Name: hospital preference, dtype: int64"
            ]
          },
          "metadata": {
            "tags": []
          },
          "execution_count": 24
        }
      ]
    },
    {
      "cell_type": "code",
      "metadata": {
        "id": "54Frk_4OS3Z-",
        "outputId": "2b6582a8-6d93-4f7e-ba01-97b81aa6c959"
      },
      "source": [
        "sns.countplot(x=data.iloc[:,7],data=data,palette= \"hls\",edgecolor=sns.color_palette(\"dark\", 3))"
      ],
      "execution_count": null,
      "outputs": [
        {
          "output_type": "execute_result",
          "data": {
            "text/plain": [
              "<matplotlib.axes._subplots.AxesSubplot at 0x251213d4c50>"
            ]
          },
          "metadata": {
            "tags": []
          },
          "execution_count": 25
        },
        {
          "output_type": "display_data",
          "data": {
            "image/png": "[encoded data removed]",
            "text/plain": [
              "<Figure size 432x288 with 1 Axes>"
            ]
          },
          "metadata": {
            "tags": [],
            "needs_background": "light"
          }
        }
      ]
    },
    {
      "cell_type": "code",
      "metadata": {
        "id": "cl1buOIgS3aC",
        "outputId": "25379bb2-d9e4-4fab-adc2-c4ed6331b843"
      },
      "source": [
        "## print the numerical values in the data\n",
        "data_num = data.select_dtypes(include = ['float64', 'int64'])     \n",
        "data_num.head()   #df_not_num = df.select_dtypes(include = ['O'])             \n",
        "print('There is {} numerical features including:\\n{}'.format(len(data_num.columns), data_num.columns.tolist()))"
      ],
      "execution_count": null,
      "outputs": [
        {
          "output_type": "stream",
          "text": [
            "There is 2 numerical features including:\n",
            "['Age', 'Number of family members']\n"
          ],
          "name": "stdout"
        }
      ]
    },
    {
      "cell_type": "code",
      "metadata": {
        "id": "8SN-6uQ9S3aG",
        "outputId": "8a2d6c53-61bf-4172-df07-8ddfda68359a"
      },
      "source": [
        "data_num.hist(figsize=(15,7),xlabelsize=10, ylabelsize=10);"
      ],
      "execution_count": null,
      "outputs": [
        {
          "output_type": "display_data",
          "data": {
            "image/png": "[encoded data removed]",
            "text/plain": [
              "<Figure size 1080x504 with 2 Axes>"
            ]
          },
          "metadata": {
            "tags": [],
            "needs_background": "light"
          }
        }
      ]
    },
    {
      "cell_type": "code",
      "metadata": {
        "id": "Rke53D16S3aK",
        "outputId": "368781b3-08fc-46da-88ac-94d654ebc7cd"
      },
      "source": [
        "l = data_num.columns.values           ##print col names\n",
        "number_of_figcolumns= 5\n",
        "number_of_rows = len(l)-1/number_of_figcolumns\n",
        "plt.figure(figsize=(15,15))\n",
        "for i in range(0,len(l)):\n",
        "    plt.subplot(number_of_rows + 1,number_of_figcolumns,i+1)\n",
        "    sns.set_style('darkgrid')\n",
        "    sns.boxplot(data_num[l[i]],color='green',orient='v')\n",
        "    plt.tight_layout()"
      ],
      "execution_count": null,
      "outputs": [
        {
          "output_type": "display_data",
          "data": {
            "image/png": "[encoded data removed]",
            "text/plain": [
              "<Figure size 1080x1080 with 2 Axes>"
            ]
          },
          "metadata": {
            "tags": [],
            "needs_background": "light"
          }
        }
      ]
    },
    {
      "cell_type": "code",
      "metadata": {
        "id": "r1kLM1KuS3aN",
        "outputId": "ce2d7236-c146-41c2-b4b3-8b8d04868e0c"
      },
      "source": [
        "plt.figure(figsize = (10,10))            ##categorical target variable and continuous feature variable\n",
        "ax= sns.boxplot(data = data,\n",
        "                x = data.iloc[:,1], y = data.iloc[:,7])\n",
        "ax= sns.stripplot(data = data,\n",
        "                   x = data.iloc[:,1], y = data.iloc[:,7], jitter=True, edgecolor=\"gray\", s = 7)\n",
        "plt.show()"
      ],
      "execution_count": null,
      "outputs": [
        {
          "output_type": "display_data",
          "data": {
            "image/png": "[encoded data removed]",
            "text/plain": [
              "<Figure size 720x720 with 1 Axes>"
            ]
          },
          "metadata": {
            "tags": []
          }
        }
      ]
    },
    {
      "cell_type": "code",
      "metadata": {
        "id": "TxtSAcP3S3aR",
        "outputId": "9d1616c7-e42d-4945-a8eb-6d204309a074"
      },
      "source": [
        "plt.figure(figsize = (14,6))            ##categorical target variable and continuous feature variable\n",
        "ax= sns.boxplot(data = data,\n",
        "                x = data.iloc[:,4], y = data.iloc[:,7])\n",
        "ax= sns.stripplot(data = data,\n",
        "                   x = data.iloc[:,4], y = data.iloc[:,7], jitter=True, edgecolor=\"gray\", s = 8)\n",
        "plt.show()"
      ],
      "execution_count": null,
      "outputs": [
        {
          "output_type": "display_data",
          "data": {
            "image/png": "[encoded data removed]",
            "text/plain": [
              "<Figure size 1008x432 with 1 Axes>"
            ]
          },
          "metadata": {
            "tags": []
          }
        }
      ]
    },
    {
      "cell_type": "markdown",
      "metadata": {
        "id": "YeX5rsQfS3aV"
      },
      "source": [
        "# splitting the dataset"
      ]
    },
    {
      "cell_type": "code",
      "metadata": {
        "id": "vY6xjR2LS3aV"
      },
      "source": [
        "x = data.iloc[:,:-1].values\n",
        "y = data['hospital preference']"
      ],
      "execution_count": null,
      "outputs": []
    },
    {
      "cell_type": "code",
      "metadata": {
        "id": "qp3K3gyGS3aX"
      },
      "source": [
        "# Splitting the dataset into training and test set.  \n",
        "\n",
        "from sklearn.model_selection import train_test_split  \n",
        "\n",
        "x_train, x_test, y_train, y_test= train_test_split(x, y, test_size= 0.25, random_state=90) "
      ],
      "execution_count": null,
      "outputs": []
    },
    {
      "cell_type": "code",
      "metadata": {
        "id": "ukYdSzCOS3aZ"
      },
      "source": [
        "#Feature Scaling of datasets  \n",
        "\n",
        "from sklearn.preprocessing import StandardScaler  \n",
        "\n",
        "st_x= StandardScaler()  \n",
        "\n",
        "x_train= st_x.fit_transform(x_train)  \n",
        "\n",
        "x_test= st_x.transform(x_test)  "
      ],
      "execution_count": null,
      "outputs": []
    },
    {
      "cell_type": "markdown",
      "metadata": {
        "id": "6LDVJHavS3ab"
      },
      "source": [
        "# Model fitting"
      ]
    },
    {
      "cell_type": "code",
      "metadata": {
        "id": "Y6VJZVqgS3ac",
        "outputId": "ab0d3e2d-162e-4e9c-8b8f-b0b472d14cda"
      },
      "source": [
        "from sklearn.linear_model import LogisticRegression\n",
        "model=LogisticRegression()\n",
        "model.fit(x_train,y_train)"
      ],
      "execution_count": null,
      "outputs": [
        {
          "output_type": "stream",
          "text": [
            "C:\\Users\\Amit Sahani\\Anaconda3\\lib\\site-packages\\sklearn\\linear_model\\logistic.py:432: FutureWarning: Default solver will be changed to 'lbfgs' in 0.22. Specify a solver to silence this warning.\n",
            "  FutureWarning)\n"
          ],
          "name": "stderr"
        },
        {
          "output_type": "execute_result",
          "data": {
            "text/plain": [
              "LogisticRegression(C=1.0, class_weight=None, dual=False, fit_intercept=True,\n",
              "                   intercept_scaling=1, l1_ratio=None, max_iter=100,\n",
              "                   multi_class='warn', n_jobs=None, penalty='l2',\n",
              "                   random_state=None, solver='warn', tol=0.0001, verbose=0,\n",
              "                   warm_start=False)"
            ]
          },
          "metadata": {
            "tags": []
          },
          "execution_count": 34
        }
      ]
    },
    {
      "cell_type": "code",
      "metadata": {
        "id": "lpletPKyS3ae",
        "outputId": "310c4d67-da15-4629-d19c-17b76e593527"
      },
      "source": [
        "model.coef_"
      ],
      "execution_count": null,
      "outputs": [
        {
          "output_type": "execute_result",
          "data": {
            "text/plain": [
              "array([[-0.08187631,  0.04057024,  0.40375663,  0.13461327, -0.92631812,\n",
              "         0.14323929,  1.27703262]])"
            ]
          },
          "metadata": {
            "tags": []
          },
          "execution_count": 35
        }
      ]
    },
    {
      "cell_type": "code",
      "metadata": {
        "id": "YnTw8rywS3ah",
        "outputId": "2289e80d-3692-479d-a9bb-71aca9cd02e0"
      },
      "source": [
        "model.score(x_train,y_train)   #accuracy of train set"
      ],
      "execution_count": null,
      "outputs": [
        {
          "output_type": "execute_result",
          "data": {
            "text/plain": [
              "0.8861788617886179"
            ]
          },
          "metadata": {
            "tags": []
          },
          "execution_count": 36
        }
      ]
    },
    {
      "cell_type": "markdown",
      "metadata": {
        "id": "7xqNL2ftS3ak"
      },
      "source": [
        "# Validating"
      ]
    },
    {
      "cell_type": "code",
      "metadata": {
        "id": "6_3t4GLuS3al",
        "outputId": "b5684b54-776c-44b7-a5db-f16e725b60b6"
      },
      "source": [
        "model.predict(x_train)"
      ],
      "execution_count": null,
      "outputs": [
        {
          "output_type": "execute_result",
          "data": {
            "text/plain": [
              "array([1, 1, 1, 1, 1, 1, 0, 1, 1, 1, 1, 1, 1, 1, 1, 1, 0, 1, 0, 1, 1, 1,\n",
              "       0, 0, 1, 1, 1, 1, 1, 1, 1, 1, 1, 1, 1, 1, 0, 1, 1, 0, 1, 1, 1, 1,\n",
              "       1, 1, 1, 0, 1, 1, 1, 1, 1, 1, 1, 1, 1, 1, 1, 1, 1, 1, 1, 1, 1, 1,\n",
              "       1, 1, 1, 0, 1, 1, 1, 0, 0, 0, 1, 1, 0, 1, 1, 1, 1, 1, 1, 1, 1, 0,\n",
              "       1, 1, 0, 1, 1, 1, 1, 1, 1, 1, 1, 0, 1, 1, 1, 0, 1, 1, 1, 1, 1, 0,\n",
              "       1, 0, 0, 1, 0, 1, 1, 1, 1, 1, 1, 1, 1, 1, 1, 1, 1, 0, 0, 1, 1, 1,\n",
              "       1, 0, 1, 1, 1, 1, 1, 0, 1, 1, 0, 0, 1, 1, 1, 0, 1, 1, 0, 1, 0, 1,\n",
              "       1, 1, 1, 1, 1, 1, 1, 1, 0, 1, 0, 1, 1, 1, 1, 1, 1, 0, 1, 1, 1, 1,\n",
              "       1, 0, 0, 1, 1, 0, 1, 1, 0, 1, 1, 1, 1, 1, 1, 0, 0, 1, 1, 1, 1, 1,\n",
              "       1, 1, 1, 1, 1, 1, 1, 0, 1, 1, 1, 0, 1, 1, 1, 1, 1, 1, 0, 1, 1, 1,\n",
              "       1, 1, 1, 1, 1, 1, 1, 0, 0, 1, 1, 0, 1, 1, 1, 1, 0, 1, 1, 1, 1, 1,\n",
              "       1, 1, 1, 0], dtype=int64)"
            ]
          },
          "metadata": {
            "tags": []
          },
          "execution_count": 37
        }
      ]
    },
    {
      "cell_type": "code",
      "metadata": {
        "id": "-Sfgv1HfS3an"
      },
      "source": [
        "y_pred=model.predict(x_test)"
      ],
      "execution_count": null,
      "outputs": []
    },
    {
      "cell_type": "code",
      "metadata": {
        "id": "ndW7p4d-S3aq",
        "outputId": "32d33572-a4f8-4429-afbd-90addf8bb2f3"
      },
      "source": [
        "confusion_matrix(y_test,y_pred)"
      ],
      "execution_count": null,
      "outputs": [
        {
          "output_type": "execute_result",
          "data": {
            "text/plain": [
              "array([[15,  7],\n",
              "       [ 2, 58]], dtype=int64)"
            ]
          },
          "metadata": {
            "tags": []
          },
          "execution_count": 39
        }
      ]
    },
    {
      "cell_type": "code",
      "metadata": {
        "id": "QyJnYuSqS3as",
        "outputId": "477092a5-26bc-4b46-8794-0a60e7f7d7df"
      },
      "source": [
        "print(classification_report(y_test,y_pred))"
      ],
      "execution_count": null,
      "outputs": [
        {
          "output_type": "stream",
          "text": [
            "              precision    recall  f1-score   support\n",
            "\n",
            "           0       0.88      0.68      0.77        22\n",
            "           1       0.89      0.97      0.93        60\n",
            "\n",
            "    accuracy                           0.89        82\n",
            "   macro avg       0.89      0.82      0.85        82\n",
            "weighted avg       0.89      0.89      0.89        82\n",
            "\n"
          ],
          "name": "stdout"
        }
      ]
    },
    {
      "cell_type": "code",
      "metadata": {
        "id": "Y1hthV73S3av",
        "outputId": "e39eb392-9881-4535-e0ac-b95afe829494"
      },
      "source": [
        "print(\"Accuracy:\",metrics.accuracy_score(y_test, y_pred))\n",
        "print(\"Precision:\",metrics.precision_score(y_test, y_pred))\n",
        "print(\"Recall:\",metrics.recall_score(y_test, y_pred))"
      ],
      "execution_count": null,
      "outputs": [
        {
          "output_type": "stream",
          "text": [
            "Accuracy: 0.8902439024390244\n",
            "Precision: 0.8923076923076924\n",
            "Recall: 0.9666666666666667\n"
          ],
          "name": "stdout"
        }
      ]
    },
    {
      "cell_type": "code",
      "metadata": {
        "id": "RtM6BLujS3ay",
        "outputId": "59792b64-24ed-45ee-f3fa-fc0166899c89"
      },
      "source": [
        "print(\"Accuracy on training set :\",format(model.score(x_train,y_train)))\n",
        "print(\"Accuracy on test set :\",format(model.score(x_test,y_test)))"
      ],
      "execution_count": null,
      "outputs": [
        {
          "output_type": "stream",
          "text": [
            "Accuracy on training set : 0.8861788617886179\n",
            "Accuracy on test set : 0.8902439024390244\n"
          ],
          "name": "stdout"
        }
      ]
    },
    {
      "cell_type": "markdown",
      "metadata": {
        "id": "gjZRDIluS3a0"
      },
      "source": [
        "# Roc plot"
      ]
    },
    {
      "cell_type": "code",
      "metadata": {
        "id": "0f9mZFEFS3a1",
        "outputId": "40f461a4-c109-4255-ef8e-005e47b24855"
      },
      "source": [
        "# calculate the fpr and tpr for all thresholds of the classification\n",
        "probs = model.predict_proba(x_test)\n",
        "# keep probabilities for the positive outcome only\n",
        "preds = probs[:,1]\n",
        "fpr, tpr, threshold = metrics.roc_curve(y_test, preds)\n",
        "roc_auc = metrics.auc(fpr, tpr)\n",
        "\n",
        "import matplotlib.pyplot as plt\n",
        "plt.title('Receiver Operating Characteristic')\n",
        "plt.plot(fpr, tpr, 'b', label = 'AUC = %0.4f' % roc_auc)\n",
        "plt.legend(loc = 'lower right')\n",
        "plt.plot([0, 1], [0, 1],'r--')\n",
        "plt.xlim([-0.1, 1])\n",
        "plt.ylim([0, 1.05])\n",
        "plt.ylabel('True Positive Rate')\n",
        "plt.xlabel('False Positive Rate')\n",
        "plt.show()"
      ],
      "execution_count": null,
      "outputs": [
        {
          "output_type": "display_data",
          "data": {
            "image/png": "[encoded data removed]",
            "text/plain": [
              "<Figure size 432x288 with 1 Axes>"
            ]
          },
          "metadata": {
            "tags": []
          }
        }
      ]
    },
    {
      "cell_type": "code",
      "metadata": {
        "id": "rG7y1l2aS3a4"
      },
      "source": [
        ""
      ],
      "execution_count": null,
      "outputs": []
    }
  ]
}